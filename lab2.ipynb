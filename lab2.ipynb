{
 "cells": [
  {
   "cell_type": "code",
   "execution_count": null,
   "metadata": {
    "vscode": {
     "languageId": "plaintext"
    }
   },
   "outputs": [],
   "source": [
    "def matchPattern(p: str, t: str) -> bool:\n",
    "    \n",
    "    elements = t.split()\n",
    "\n",
    "    # If the lengths of p and elements don't match, it's an automatic mismatch\n",
    "    if len(p) != len(elements):\n",
    "        return False\n",
    "    \n",
    "    # Dictionaries to store the mappings in both directions\n",
    "    forward_map = {}\n",
    "    reverse_map = {}\n",
    "\n",
    "    # Loop over the pattern and corresponding words\n",
    "    for char, word in zip(p, elements):\n",
    "\n",
    "        # Check if the current character in pattern already has a corresponding word\n",
    "        if char in forward_map:\n",
    "            if forward_map[char] != word:  # Mismatch found\n",
    "                return False\n",
    "        else:\n",
    "            forward_map[char] = word  # Create a new character-to-word mapping\n",
    "\n",
    "        # Check if the word already has a corresponding pattern character\n",
    "        if word in reverse_map:\n",
    "            if reverse_map[word] != char: \n",
    "                return False\n",
    "        else:\n",
    "            reverse_map[word] = char  \n",
    "\n",
    "    \n",
    "    return True\n",
    "\n",
    "# Test \n",
    "print(matchPattern(\"abba\", \"dog cat cat cat\"))    \n",
    "print(matchPattern(\"aaaa\", \"dog cat cat dog\"))\n",
    "print(matchPattern(\"abba\", \"dog cat cat dog\"))\n",
    "print(matchPattern(\"abba\", \"dog cat cat fish\"))"
   ]
  }
 ],
 "metadata": {
  "language_info": {
   "name": "python"
  }
 },
 "nbformat": 4,
 "nbformat_minor": 2
}
